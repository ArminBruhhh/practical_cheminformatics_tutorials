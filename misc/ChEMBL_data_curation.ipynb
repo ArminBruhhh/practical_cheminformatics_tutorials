{
 "cells": [
  {
   "cell_type": "markdown",
   "metadata": {
    "id": "pMiXbQ9xnIT4"
   },
   "source": [
    "# Curating a Dataset From the ChEMBL Database\n",
    "\n",
    "In this notebook, we'll download and format data from the [ChEMBL](https://www.ebi.ac.uk/chembl/) database for machine learning (ML) purposes. To begin, we need to identify the **ChEMBL ID** for our target of interest. This is often easiest to do by using the **UniProt ID**, which can typically be found from a [UniProt Website](https://www.uniprot.org/) or looking at a relevant protein structure in the PDB. For this notebook, we will download data for [Epidermal Growth Factor Receptor (EGFR)](https://www.uniprot.org/uniprotkb/P00533/entry), a protein that plays a significant role in cancer.\n",
    "\n",
    "Our task is made easier by the [chembl-downloader](https://github.com/cthoyt/chembl-downloader) package written Charles Tapley-Hoyt. This library simplifies the process of downloading and querying the ChEMBL database. For more on the chEMBL-downloader please see Charlie's [paper](https://joss.theoj.org/papers/10.21105/joss.08844) in The Journal of Open Source Software."
   ]
  },
  {
   "cell_type": "markdown",
   "metadata": {
    "id": "31cj6RGonRzw"
   },
   "source": [
    "Install the necessary Python libraries"
   ]
  },
  {
   "cell_type": "code",
   "execution_count": 1,
   "metadata": {
    "colab": {
     "base_uri": "https://localhost:8080/"
    },
    "id": "2QAJuk1VJlSX",
    "outputId": "380c325a-7d6d-42f0-ed49-aba4bd4fbe40"
   },
   "outputs": [],
   "source": [
    "import sys\n",
    "IN_COLAB = 'google.colab' in sys.modules\n",
    "if IN_COLAB:\n",
    "  !uv pip install --system pandas chembl_downloader"
   ]
  },
  {
   "cell_type": "markdown",
   "metadata": {
    "id": "IelA6-5unaYC"
   },
   "source": [
    "Import the libraries we will use\n",
    "- chembl_downloader - allows easy downloads and access to the ChEMBL database\n",
    "- pandas - enables access to data tables\n",
    "- sys - provides access to system functionality\n",
    "- files - allows downloads from Google Colab"
   ]
  },
  {
   "cell_type": "code",
   "execution_count": 2,
   "metadata": {
    "id": "vsSQilSQOfte"
   },
   "outputs": [],
   "source": [
    "import chembl_downloader\n",
    "import pandas as pd\n",
    "import sys\n",
    "IN_COLAB = 'google.colab' in sys.modules\n",
    "if IN_COLAB:\n",
    "  from google.colab import files"
   ]
  },
  {
   "cell_type": "markdown",
   "metadata": {
    "id": "82dEAz5IzPZN"
   },
   "source": [
    "To begin, we will use the chembl-downloader to download a file containing the mapping of UniProt IDs to ChEMBL IDs. Once we've downloaded the file we can look up the ChEMBL ID corresponding to the UniProt ID for EGFR. If you want to look for a different protein, change the `uniprot_id` variable below. Make sure the query below returned 1 row and ChEMBL_ID has a value. "
   ]
  },
  {
   "cell_type": "code",
   "execution_count": 3,
   "metadata": {
    "colab": {
     "base_uri": "https://localhost:8080/",
     "height": 81
    },
    "id": "aXsGJ2Z0S-W3",
    "outputId": "2ede39b8-057e-44b7-832d-126f9fb8d068"
   },
   "outputs": [
    {
     "name": "stdout",
     "output_type": "stream",
     "text": [
      "ChEMBL_ID = CHEMBL203\n",
      "\n"
     ]
    },
    {
     "data": {
      "text/html": [
       "<div>\n",
       "<style scoped>\n",
       "    .dataframe tbody tr th:only-of-type {\n",
       "        vertical-align: middle;\n",
       "    }\n",
       "\n",
       "    .dataframe tbody tr th {\n",
       "        vertical-align: top;\n",
       "    }\n",
       "\n",
       "    .dataframe thead th {\n",
       "        text-align: right;\n",
       "    }\n",
       "</style>\n",
       "<table border=\"1\" class=\"dataframe\">\n",
       "  <thead>\n",
       "    <tr style=\"text-align: right;\">\n",
       "      <th></th>\n",
       "      <th>UniProt</th>\n",
       "      <th>ChEMBL_ID</th>\n",
       "      <th>Name</th>\n",
       "      <th>Target_Type</th>\n",
       "    </tr>\n",
       "  </thead>\n",
       "  <tbody>\n",
       "    <tr>\n",
       "      <th>306</th>\n",
       "      <td>P00533</td>\n",
       "      <td>CHEMBL203</td>\n",
       "      <td>Epidermal growth factor receptor erbB1</td>\n",
       "      <td>SINGLE PROTEIN</td>\n",
       "    </tr>\n",
       "  </tbody>\n",
       "</table>\n",
       "</div>"
      ],
      "text/plain": [
       "    UniProt  ChEMBL_ID                                    Name     Target_Type\n",
       "306  P00533  CHEMBL203  Epidermal growth factor receptor erbB1  SINGLE PROTEIN"
      ]
     },
     "execution_count": 3,
     "metadata": {},
     "output_type": "execute_result"
    }
   ],
   "source": [
    "uniprot_id = 'P00533'\n",
    "uniprot_path = chembl_downloader.download_uniprot_mapping()\n",
    "uniprot_df = pd.read_csv(uniprot_path,sep=\"\\t\",names=[\"UniProt\", \"ChEMBL_ID\",\"Name\",\"Target_Type\"],comment=\"#\")\n",
    "result_df = uniprot_df.query(\"UniProt == @uniprot_id and Target_Type == 'SINGLE PROTEIN'\")\n",
    "chembl_id = None\n",
    "if len(result_df) > 0:\n",
    "    chembl_id = result_df.ChEMBL_ID.values[0]\n",
    "    print(f\"ChEMBL_ID = {chembl_id}\")\n",
    "else:\n",
    "    print(f\"No ChEMBL_ID found for {uniprot_id}\")\n",
    "print()\n",
    "result_df"
   ]
  },
  {
   "cell_type": "markdown",
   "metadata": {
    "id": "WSPkk1fRiRZp"
   },
   "source": [
    "To access the data corresponding to our target of interest, we need to use a relatively complex SQL query.  I borrowed thiis query from the [OpenADMET](https://github.com/OpenADMET/openadmet-toolkit/blob/main/openadmet/toolkit/database/chembl.py) data curation workflow. The function below encapsulates this query.  We provide the ChEMBL ID as input and the fuction returns the sql query."
   ]
  },
  {
   "cell_type": "code",
   "execution_count": 4,
   "metadata": {
    "id": "ZtX801b1J_kk"
   },
   "outputs": [],
   "source": [
    "def get_query(chembl_id):\n",
    "  query =f\"\"\"       -- Get all the activity data for a given target using its ChEMBL ID.\n",
    "        select\n",
    "            activities.assay_id                  as assay_id,\n",
    "            activities.doc_id                    as doc_id,\n",
    "            activities.standard_value            as standard_value,\n",
    "            molecule_hierarchy.parent_molregno   as molregno,\n",
    "            compound_structures.canonical_smiles as canonical_smiles,\n",
    "            compound_structures.standard_inchi_key as standard_inchi_key,\n",
    "            target_dictionary.tid                as tid,\n",
    "            target_dictionary.chembl_id          as target_chembl_id,\n",
    "            pchembl_value                        as pchembl_value,\n",
    "            molecule_dictionary.pref_name        as compound_name,\n",
    "            activities.standard_type             as standard_type,\n",
    "            activities.bao_endpoint              as bao_endpoint,\n",
    "            assays.description                   as assay_description,\n",
    "            assays.assay_organism                as assay_organism,\n",
    "            assays.assay_strain                  as assay_strain,\n",
    "            assays.assay_tissue                  as assay_tissue,\n",
    "            assays.assay_type                    as assay_type,\n",
    "            assays.assay_cell_type               as assay_cell_type,\n",
    "            assays.assay_subcellular_fraction    as assay_subcellular_fraction,\n",
    "            assays.variant_id                    as variant_id,\n",
    "            docs.year                            as doc_year,\n",
    "            docs.journal                         as doc_journal,\n",
    "            docs.doi                             as doc_doi,\n",
    "            docs.title                           as doc_title,\n",
    "            docs.authors                         as doc_authors,\n",
    "            docs.abstract                        as doc_abstract,\n",
    "            docs.patent_id                       as doc_patent_id,\n",
    "            docs.pubmed_id                       as doc_pubmed_id,\n",
    "            docs.chembl_release_id               as doc_chembl_release_id\n",
    "        from activities\n",
    "        join assays ON activities.assay_id = assays.assay_id\n",
    "        join target_dictionary ON assays.tid = target_dictionary.tid\n",
    "        join target_components ON target_dictionary.tid = target_components.tid\n",
    "        join component_class ON target_components.component_id = component_class.component_id\n",
    "        join docs ON activities.doc_id = docs.doc_id\n",
    "        join molecule_dictionary ON activities.molregno = molecule_dictionary.molregno\n",
    "        join molecule_hierarchy ON molecule_dictionary.molregno = molecule_hierarchy.molregno\n",
    "        join compound_structures ON molecule_hierarchy.parent_molregno = compound_structures.molregno\n",
    "        where target_chembl_id = '{chembl_id}'\n",
    "        and activities.data_validity_comment IS null\n",
    "        and activities.standard_units = 'nM'\n",
    "        and pchembl_value is not null\"\"\"\n",
    "  return query"
   ]
  },
  {
   "cell_type": "markdown",
   "metadata": {
    "id": "SFr-28urjXwt"
   },
   "source": [
    "Use the function above to get the SQL query."
   ]
  },
  {
   "cell_type": "code",
   "execution_count": 5,
   "metadata": {
    "id": "ce5hltBLN-vv"
   },
   "outputs": [],
   "source": [
    "if chembl_id is not None:\n",
    "    sql = get_query(chembl_id)\n",
    "else:\n",
    "    print(\"ERROR: chembl_id does not have a value\")"
   ]
  },
  {
   "cell_type": "markdown",
   "metadata": {
    "id": "R983dByAjiZT"
   },
   "source": [
    "Run the SQL query. The ChEMBL downloader will first check to see if you've downloaded the ChEMBL database.  If you haven't, it will download and unpack it for you.  On Google Colab this typically takes 5-10 minutes. Run this cell, then go get a cup of coffee.\n",
    "\n",
    "Once the database is downloaded, it will run the query and return the result as a Pandas dataframe. We also write the results to a csv file."
   ]
  },
  {
   "cell_type": "code",
   "execution_count": 11,
   "metadata": {
    "colab": {
     "base_uri": "https://localhost:8080/",
     "height": 52,
     "referenced_widgets": [
      "0d7f709341e44e2fa8476b919ed92bb0",
      "33d9280b0831492dadf2d3f7ee9c69ea",
      "3bccef9e9d654155b83f94ce1d836222",
      "dd8762b10e3d481aa9adad6128fb6e0c",
      "b82b6b7924e745abb668f40b00ab851a",
      "3dd7ca0b72c245b2ad76ab5ae26150e4",
      "75130be112734114a1bf0d4d24b2dc89",
      "c71ee70c929d4159acc5e66dc98fea99",
      "ad3a7732eb4448d7bc536a716cd4d7d3",
      "fb1e76c859c247709aa22a198207f41a",
      "b99e90e1ba0e4985a99b0f4823ce6f74"
     ]
    },
    "id": "IG5WXgAUNDEi",
    "outputId": "03a28ce5-10d3-4173-fc7b-c6ad462115e4"
   },
   "outputs": [
    {
     "name": "stdout",
     "output_type": "stream",
     "text": [
      "CPU times: user 6.28 s, sys: 4.46 s, total: 10.7 s\n",
      "Wall time: 21.4 s\n"
     ]
    }
   ],
   "source": [
    "%%time\n",
    "df = chembl_downloader.query(sql)\n",
    "df.to_csv(f\"{chembl_id}.csv\", sep='\\t', index=False)"
   ]
  },
  {
   "cell_type": "markdown",
   "metadata": {
    "id": "mR40g5MZkVQE"
   },
   "source": [
    "Let's look at how many of each of the result types are available in the data we downloaded."
   ]
  },
  {
   "cell_type": "code",
   "execution_count": 12,
   "metadata": {
    "colab": {
     "base_uri": "https://localhost:8080/",
     "height": 304
    },
    "id": "KvQ-P_bhOjw4",
    "outputId": "caa8a33c-ec06-4009-b9c4-632f772b5c8e"
   },
   "outputs": [
    {
     "data": {
      "text/plain": [
       "standard_type\n",
       "IC50       13158\n",
       "Kd           809\n",
       "Ki           568\n",
       "EC50         285\n",
       "Potency       35\n",
       "AC50          11\n",
       "Name: count, dtype: int64"
      ]
     },
     "execution_count": 12,
     "metadata": {},
     "output_type": "execute_result"
    }
   ],
   "source": [
    "df.standard_type.value_counts()"
   ]
  },
  {
   "cell_type": "markdown",
   "metadata": {
    "id": "9-aKnwMhlJd5"
   },
   "source": [
    "As we can see above we have much more IC50 data than any other datatype.  However, as a recent [paper](https://pubs.acs.org/doi/full/10.1021/acs.jcim.4c00049) from Greg Landrum and Sereina Rinker showed, Ki data tends to be more reliable.  Let's download the Ki data.  We will select the three columns critical for building our ML model.\n",
    "- canonical_smiles - the SMILES representation for the chemical structure\n",
    "- molregno - the internal ChEMBL ID for the compounds\n",
    "- pchembl_value - the negative log of the activity\n",
    "\n",
    "If you'd prefer to use a different data type like **Kd** or **IC50**, just change the `standard_type` variable below. \n"
   ]
  },
  {
   "cell_type": "code",
   "execution_count": 13,
   "metadata": {
    "colab": {
     "base_uri": "https://localhost:8080/",
     "height": 424
    },
    "id": "Ink2oFDiSUZ7",
    "outputId": "c6b7d29c-7280-49f0-fe0c-a60e16504a7c"
   },
   "outputs": [
    {
     "data": {
      "text/html": [
       "<div>\n",
       "<style scoped>\n",
       "    .dataframe tbody tr th:only-of-type {\n",
       "        vertical-align: middle;\n",
       "    }\n",
       "\n",
       "    .dataframe tbody tr th {\n",
       "        vertical-align: top;\n",
       "    }\n",
       "\n",
       "    .dataframe thead th {\n",
       "        text-align: right;\n",
       "    }\n",
       "</style>\n",
       "<table border=\"1\" class=\"dataframe\">\n",
       "  <thead>\n",
       "    <tr style=\"text-align: right;\">\n",
       "      <th></th>\n",
       "      <th>canonical_smiles</th>\n",
       "      <th>molregno</th>\n",
       "      <th>pchembl_value</th>\n",
       "    </tr>\n",
       "  </thead>\n",
       "  <tbody>\n",
       "    <tr>\n",
       "      <th>0</th>\n",
       "      <td>C#CCCn1cc(Nc2nc(OC[C@H]3CN(C(=O)C=C)C[C@@H]3OC...</td>\n",
       "      <td>2076850</td>\n",
       "      <td>8.000000</td>\n",
       "    </tr>\n",
       "    <tr>\n",
       "      <th>1</th>\n",
       "      <td>C#CCOc1cc2ncnc(Nc3ccc(F)c(Cl)c3)c2cc1NC(=O)C=C</td>\n",
       "      <td>2076849</td>\n",
       "      <td>8.700000</td>\n",
       "    </tr>\n",
       "    <tr>\n",
       "      <th>2</th>\n",
       "      <td>C#Cc1cccc(Nc2ncnc3cc(OCCOC)c(OCCOC)cc23)c1</td>\n",
       "      <td>14785</td>\n",
       "      <td>8.547692</td>\n",
       "    </tr>\n",
       "    <tr>\n",
       "      <th>3</th>\n",
       "      <td>C=CC(=O)N1CC[C@@H](COc2nc(Nc3cnn(C)c3)nc3[nH]c...</td>\n",
       "      <td>2076841</td>\n",
       "      <td>8.100000</td>\n",
       "    </tr>\n",
       "    <tr>\n",
       "      <th>4</th>\n",
       "      <td>C=CC(=O)N1CC[C@@H](COc2nc(Nc3cnn(C)c3)nc3[nH]c...</td>\n",
       "      <td>2076839</td>\n",
       "      <td>6.230000</td>\n",
       "    </tr>\n",
       "    <tr>\n",
       "      <th>...</th>\n",
       "      <td>...</td>\n",
       "      <td>...</td>\n",
       "      <td>...</td>\n",
       "    </tr>\n",
       "    <tr>\n",
       "      <th>384</th>\n",
       "      <td>c1ccc(CNc2cc(-c3c[nH]c4ncccc34)ncn2)cc1</td>\n",
       "      <td>1323637</td>\n",
       "      <td>6.200000</td>\n",
       "    </tr>\n",
       "    <tr>\n",
       "      <th>385</th>\n",
       "      <td>c1ccc(CNc2ccnc3oc4ccccc4c23)cc1</td>\n",
       "      <td>716387</td>\n",
       "      <td>6.230000</td>\n",
       "    </tr>\n",
       "    <tr>\n",
       "      <th>386</th>\n",
       "      <td>c1ccc(COc2ccc(Nc3ncnc4ccccc34)cc2)cc1</td>\n",
       "      <td>1301454</td>\n",
       "      <td>7.000000</td>\n",
       "    </tr>\n",
       "    <tr>\n",
       "      <th>387</th>\n",
       "      <td>c1ccc(Nc2ncnc3ccccc23)cc1</td>\n",
       "      <td>55040</td>\n",
       "      <td>7.100000</td>\n",
       "    </tr>\n",
       "    <tr>\n",
       "      <th>388</th>\n",
       "      <td>c1ccc2c(CNc3ccnc4oc5ccccc5c34)cccc2c1</td>\n",
       "      <td>716483</td>\n",
       "      <td>6.170000</td>\n",
       "    </tr>\n",
       "  </tbody>\n",
       "</table>\n",
       "<p>389 rows × 3 columns</p>\n",
       "</div>"
      ],
      "text/plain": [
       "                                      canonical_smiles  molregno  \\\n",
       "0    C#CCCn1cc(Nc2nc(OC[C@H]3CN(C(=O)C=C)C[C@@H]3OC...   2076850   \n",
       "1       C#CCOc1cc2ncnc(Nc3ccc(F)c(Cl)c3)c2cc1NC(=O)C=C   2076849   \n",
       "2           C#Cc1cccc(Nc2ncnc3cc(OCCOC)c(OCCOC)cc23)c1     14785   \n",
       "3    C=CC(=O)N1CC[C@@H](COc2nc(Nc3cnn(C)c3)nc3[nH]c...   2076841   \n",
       "4    C=CC(=O)N1CC[C@@H](COc2nc(Nc3cnn(C)c3)nc3[nH]c...   2076839   \n",
       "..                                                 ...       ...   \n",
       "384            c1ccc(CNc2cc(-c3c[nH]c4ncccc34)ncn2)cc1   1323637   \n",
       "385                    c1ccc(CNc2ccnc3oc4ccccc4c23)cc1    716387   \n",
       "386              c1ccc(COc2ccc(Nc3ncnc4ccccc34)cc2)cc1   1301454   \n",
       "387                          c1ccc(Nc2ncnc3ccccc23)cc1     55040   \n",
       "388              c1ccc2c(CNc3ccnc4oc5ccccc5c34)cccc2c1    716483   \n",
       "\n",
       "     pchembl_value  \n",
       "0         8.000000  \n",
       "1         8.700000  \n",
       "2         8.547692  \n",
       "3         8.100000  \n",
       "4         6.230000  \n",
       "..             ...  \n",
       "384       6.200000  \n",
       "385       6.230000  \n",
       "386       7.000000  \n",
       "387       7.100000  \n",
       "388       6.170000  \n",
       "\n",
       "[389 rows x 3 columns]"
      ]
     },
     "execution_count": 13,
     "metadata": {},
     "output_type": "execute_result"
    }
   ],
   "source": [
    "standard_type = \"Ki\"\n",
    "output_df = df.query(\"standard_type == @standard_type\")[[\"canonical_smiles\",\"molregno\",\"pchembl_value\"]].groupby([\"canonical_smiles\",\"molregno\"]).mean()\n",
    "output_df = output_df.reset_index()\n",
    "output_df"
   ]
  },
  {
   "cell_type": "markdown",
   "metadata": {},
   "source": [
    "I prefer to have the SMILES column called \"SMILES\", let's change that. "
   ]
  },
  {
   "cell_type": "code",
   "execution_count": 15,
   "metadata": {},
   "outputs": [
    {
     "data": {
      "text/html": [
       "<div>\n",
       "<style scoped>\n",
       "    .dataframe tbody tr th:only-of-type {\n",
       "        vertical-align: middle;\n",
       "    }\n",
       "\n",
       "    .dataframe tbody tr th {\n",
       "        vertical-align: top;\n",
       "    }\n",
       "\n",
       "    .dataframe thead th {\n",
       "        text-align: right;\n",
       "    }\n",
       "</style>\n",
       "<table border=\"1\" class=\"dataframe\">\n",
       "  <thead>\n",
       "    <tr style=\"text-align: right;\">\n",
       "      <th></th>\n",
       "      <th>SMILES</th>\n",
       "      <th>molregno</th>\n",
       "      <th>pchembl_value</th>\n",
       "    </tr>\n",
       "  </thead>\n",
       "  <tbody>\n",
       "    <tr>\n",
       "      <th>0</th>\n",
       "      <td>C#CCCn1cc(Nc2nc(OC[C@H]3CN(C(=O)C=C)C[C@@H]3OC...</td>\n",
       "      <td>2076850</td>\n",
       "      <td>8.000000</td>\n",
       "    </tr>\n",
       "    <tr>\n",
       "      <th>1</th>\n",
       "      <td>C#CCOc1cc2ncnc(Nc3ccc(F)c(Cl)c3)c2cc1NC(=O)C=C</td>\n",
       "      <td>2076849</td>\n",
       "      <td>8.700000</td>\n",
       "    </tr>\n",
       "    <tr>\n",
       "      <th>2</th>\n",
       "      <td>C#Cc1cccc(Nc2ncnc3cc(OCCOC)c(OCCOC)cc23)c1</td>\n",
       "      <td>14785</td>\n",
       "      <td>8.547692</td>\n",
       "    </tr>\n",
       "    <tr>\n",
       "      <th>3</th>\n",
       "      <td>C=CC(=O)N1CC[C@@H](COc2nc(Nc3cnn(C)c3)nc3[nH]c...</td>\n",
       "      <td>2076841</td>\n",
       "      <td>8.100000</td>\n",
       "    </tr>\n",
       "    <tr>\n",
       "      <th>4</th>\n",
       "      <td>C=CC(=O)N1CC[C@@H](COc2nc(Nc3cnn(C)c3)nc3[nH]c...</td>\n",
       "      <td>2076839</td>\n",
       "      <td>6.230000</td>\n",
       "    </tr>\n",
       "    <tr>\n",
       "      <th>...</th>\n",
       "      <td>...</td>\n",
       "      <td>...</td>\n",
       "      <td>...</td>\n",
       "    </tr>\n",
       "    <tr>\n",
       "      <th>384</th>\n",
       "      <td>c1ccc(CNc2cc(-c3c[nH]c4ncccc34)ncn2)cc1</td>\n",
       "      <td>1323637</td>\n",
       "      <td>6.200000</td>\n",
       "    </tr>\n",
       "    <tr>\n",
       "      <th>385</th>\n",
       "      <td>c1ccc(CNc2ccnc3oc4ccccc4c23)cc1</td>\n",
       "      <td>716387</td>\n",
       "      <td>6.230000</td>\n",
       "    </tr>\n",
       "    <tr>\n",
       "      <th>386</th>\n",
       "      <td>c1ccc(COc2ccc(Nc3ncnc4ccccc34)cc2)cc1</td>\n",
       "      <td>1301454</td>\n",
       "      <td>7.000000</td>\n",
       "    </tr>\n",
       "    <tr>\n",
       "      <th>387</th>\n",
       "      <td>c1ccc(Nc2ncnc3ccccc23)cc1</td>\n",
       "      <td>55040</td>\n",
       "      <td>7.100000</td>\n",
       "    </tr>\n",
       "    <tr>\n",
       "      <th>388</th>\n",
       "      <td>c1ccc2c(CNc3ccnc4oc5ccccc5c34)cccc2c1</td>\n",
       "      <td>716483</td>\n",
       "      <td>6.170000</td>\n",
       "    </tr>\n",
       "  </tbody>\n",
       "</table>\n",
       "<p>389 rows × 3 columns</p>\n",
       "</div>"
      ],
      "text/plain": [
       "                                                SMILES  molregno  \\\n",
       "0    C#CCCn1cc(Nc2nc(OC[C@H]3CN(C(=O)C=C)C[C@@H]3OC...   2076850   \n",
       "1       C#CCOc1cc2ncnc(Nc3ccc(F)c(Cl)c3)c2cc1NC(=O)C=C   2076849   \n",
       "2           C#Cc1cccc(Nc2ncnc3cc(OCCOC)c(OCCOC)cc23)c1     14785   \n",
       "3    C=CC(=O)N1CC[C@@H](COc2nc(Nc3cnn(C)c3)nc3[nH]c...   2076841   \n",
       "4    C=CC(=O)N1CC[C@@H](COc2nc(Nc3cnn(C)c3)nc3[nH]c...   2076839   \n",
       "..                                                 ...       ...   \n",
       "384            c1ccc(CNc2cc(-c3c[nH]c4ncccc34)ncn2)cc1   1323637   \n",
       "385                    c1ccc(CNc2ccnc3oc4ccccc4c23)cc1    716387   \n",
       "386              c1ccc(COc2ccc(Nc3ncnc4ccccc34)cc2)cc1   1301454   \n",
       "387                          c1ccc(Nc2ncnc3ccccc23)cc1     55040   \n",
       "388              c1ccc2c(CNc3ccnc4oc5ccccc5c34)cccc2c1    716483   \n",
       "\n",
       "     pchembl_value  \n",
       "0         8.000000  \n",
       "1         8.700000  \n",
       "2         8.547692  \n",
       "3         8.100000  \n",
       "4         6.230000  \n",
       "..             ...  \n",
       "384       6.200000  \n",
       "385       6.230000  \n",
       "386       7.000000  \n",
       "387       7.100000  \n",
       "388       6.170000  \n",
       "\n",
       "[389 rows x 3 columns]"
      ]
     },
     "execution_count": 15,
     "metadata": {},
     "output_type": "execute_result"
    }
   ],
   "source": [
    "output_df.rename(columns={\"canonical_smiles\" : \"SMILES\"},inplace=True)\n",
    "output_df"
   ]
  },
  {
   "cell_type": "markdown",
   "metadata": {
    "id": "QMF4xDY6njfs"
   },
   "source": [
    "Write the data to a csv file."
   ]
  },
  {
   "cell_type": "code",
   "execution_count": 16,
   "metadata": {
    "colab": {
     "base_uri": "https://localhost:8080/"
    },
    "id": "tp60sXBvYQyt",
    "outputId": "1509bc46-cb8b-4b39-931a-7e5d2886b201"
   },
   "outputs": [
    {
     "name": "stdout",
     "output_type": "stream",
     "text": [
      "Saved CHEMBL203_Ki.csv with 389 rows.\n"
     ]
    }
   ],
   "source": [
    "outfile_name = f\"{chembl_id}_{standard_type}.csv\"\n",
    "output_df.to_csv(outfile_name, index=False)\n",
    "print(f\"Saved {outfile_name} with {len(output_df)} rows.\")"
   ]
  },
  {
   "cell_type": "markdown",
   "metadata": {
    "id": "CCk62vKcwQQu"
   },
   "source": [
    "Let's take a quick look at the csv file."
   ]
  },
  {
   "cell_type": "code",
   "execution_count": 17,
   "metadata": {
    "colab": {
     "base_uri": "https://localhost:8080/"
    },
    "id": "nQ7LMbLl0pDB",
    "outputId": "c32f0802-cea6-4dc2-c55a-c664ee91a927"
   },
   "outputs": [
    {
     "name": "stdout",
     "output_type": "stream",
     "text": [
      "SMILES,molregno,pchembl_value\n",
      "C#CCCn1cc(Nc2nc(OC[C@H]3CN(C(=O)C=C)C[C@@H]3OC)c3c(Cl)c[nH]c3n2)cn1,2076850,8.0\n",
      "C#CCOc1cc2ncnc(Nc3ccc(F)c(Cl)c3)c2cc1NC(=O)C=C,2076849,8.7\n",
      "C#Cc1cccc(Nc2ncnc3cc(OCCOC)c(OCCOC)cc23)c1,14785,8.547692307692309\n",
      "C=CC(=O)N1CC[C@@H](COc2nc(Nc3cnn(C)c3)nc3[nH]cc(Cl)c23)C1,2076841,8.1\n",
      "C=CC(=O)N1CC[C@@H](COc2nc(Nc3cnn(C)c3)nc3[nH]ccc23)C1,2076839,6.23\n",
      "C=CC(=O)N1CC[C@@H](Nc2nc(Nc3ccc(N4CCN(C)CC4)cc3)c3ncn(C(C)C)c3n2)C1,2284463,7.5\n",
      "C=CC(=O)N1CC[C@@H](Nc2nc(Nc3cnn(C)c3)c3ncn(C(C)C)c3n2)C1,2287519,6.98\n",
      "C=CC(=O)N1CC[C@@H](Nc2nc(Nc3cnn(C)c3)nc3[nH]cc(Cl)c23)C1,2284632,8.4\n",
      "C=CC(=O)N1CC[C@H](Nc2nc(Nc3ccc(N4CCN(C)CC4)cc3)c3ncn(C(C)C)c3n2)C1,2291892,6.79\n"
     ]
    }
   ],
   "source": [
    "!head {outfile_name}"
   ]
  },
  {
   "cell_type": "markdown",
   "metadata": {
    "id": "lh1mnDNVvrH-"
   },
   "source": [
    "If you're on Google Colab, you can execute the cell below to download the results to your Downloads directory. If you're running the notebook locally the output file will be in the same directory as this notebook."
   ]
  },
  {
   "cell_type": "code",
   "execution_count": 18,
   "metadata": {
    "colab": {
     "base_uri": "https://localhost:8080/",
     "height": 17
    },
    "id": "hOQ22LoubEnA",
    "outputId": "2066ba68-3e6c-427a-e223-4a53ea8cfc3c"
   },
   "outputs": [],
   "source": [
    "if IN_COLAB:\n",
    "  files.download(outfile_name)"
   ]
  },
  {
   "cell_type": "code",
   "execution_count": null,
   "metadata": {
    "id": "iD2Yi71Culcd"
   },
   "outputs": [],
   "source": []
  }
 ],
 "metadata": {
  "colab": {
   "provenance": []
  },
  "kernelspec": {
   "display_name": "Python 3 (ipykernel)",
   "language": "python",
   "name": "python3"
  },
  "language_info": {
   "codemirror_mode": {
    "name": "ipython",
    "version": 3
   },
   "file_extension": ".py",
   "mimetype": "text/x-python",
   "name": "python",
   "nbconvert_exporter": "python",
   "pygments_lexer": "ipython3",
   "version": "3.11.11"
  },
  "widgets": {
   "application/vnd.jupyter.widget-state+json": {
    "0d7f709341e44e2fa8476b919ed92bb0": {
     "model_module": "@jupyter-widgets/controls",
     "model_module_version": "1.5.0",
     "model_name": "HBoxModel",
     "state": {
      "_dom_classes": [],
      "_model_module": "@jupyter-widgets/controls",
      "_model_module_version": "1.5.0",
      "_model_name": "HBoxModel",
      "_view_count": null,
      "_view_module": "@jupyter-widgets/controls",
      "_view_module_version": "1.5.0",
      "_view_name": "HBoxView",
      "box_style": "",
      "children": [
       "IPY_MODEL_33d9280b0831492dadf2d3f7ee9c69ea",
       "IPY_MODEL_3bccef9e9d654155b83f94ce1d836222",
       "IPY_MODEL_dd8762b10e3d481aa9adad6128fb6e0c"
      ],
      "layout": "IPY_MODEL_b82b6b7924e745abb668f40b00ab851a"
     }
    },
    "33d9280b0831492dadf2d3f7ee9c69ea": {
     "model_module": "@jupyter-widgets/controls",
     "model_module_version": "1.5.0",
     "model_name": "HTMLModel",
     "state": {
      "_dom_classes": [],
      "_model_module": "@jupyter-widgets/controls",
      "_model_module_version": "1.5.0",
      "_model_name": "HTMLModel",
      "_view_count": null,
      "_view_module": "@jupyter-widgets/controls",
      "_view_module_version": "1.5.0",
      "_view_name": "HTMLView",
      "description": "",
      "description_tooltip": null,
      "layout": "IPY_MODEL_3dd7ca0b72c245b2ad76ab5ae26150e4",
      "placeholder": "​",
      "style": "IPY_MODEL_75130be112734114a1bf0d4d24b2dc89",
      "value": "Downloading chembl_35_sqlite.tar.gz: 100%"
     }
    },
    "3bccef9e9d654155b83f94ce1d836222": {
     "model_module": "@jupyter-widgets/controls",
     "model_module_version": "1.5.0",
     "model_name": "FloatProgressModel",
     "state": {
      "_dom_classes": [],
      "_model_module": "@jupyter-widgets/controls",
      "_model_module_version": "1.5.0",
      "_model_name": "FloatProgressModel",
      "_view_count": null,
      "_view_module": "@jupyter-widgets/controls",
      "_view_module_version": "1.5.0",
      "_view_name": "ProgressView",
      "bar_style": "info",
      "description": "",
      "description_tooltip": null,
      "layout": "IPY_MODEL_c71ee70c929d4159acc5e66dc98fea99",
      "max": 1,
      "min": 0,
      "orientation": "horizontal",
      "style": "IPY_MODEL_ad3a7732eb4448d7bc536a716cd4d7d3",
      "value": 1
     }
    },
    "3dd7ca0b72c245b2ad76ab5ae26150e4": {
     "model_module": "@jupyter-widgets/base",
     "model_module_version": "1.2.0",
     "model_name": "LayoutModel",
     "state": {
      "_model_module": "@jupyter-widgets/base",
      "_model_module_version": "1.2.0",
      "_model_name": "LayoutModel",
      "_view_count": null,
      "_view_module": "@jupyter-widgets/base",
      "_view_module_version": "1.2.0",
      "_view_name": "LayoutView",
      "align_content": null,
      "align_items": null,
      "align_self": null,
      "border": null,
      "bottom": null,
      "display": null,
      "flex": null,
      "flex_flow": null,
      "grid_area": null,
      "grid_auto_columns": null,
      "grid_auto_flow": null,
      "grid_auto_rows": null,
      "grid_column": null,
      "grid_gap": null,
      "grid_row": null,
      "grid_template_areas": null,
      "grid_template_columns": null,
      "grid_template_rows": null,
      "height": null,
      "justify_content": null,
      "justify_items": null,
      "left": null,
      "margin": null,
      "max_height": null,
      "max_width": null,
      "min_height": null,
      "min_width": null,
      "object_fit": null,
      "object_position": null,
      "order": null,
      "overflow": null,
      "overflow_x": null,
      "overflow_y": null,
      "padding": null,
      "right": null,
      "top": null,
      "visibility": null,
      "width": null
     }
    },
    "75130be112734114a1bf0d4d24b2dc89": {
     "model_module": "@jupyter-widgets/controls",
     "model_module_version": "1.5.0",
     "model_name": "DescriptionStyleModel",
     "state": {
      "_model_module": "@jupyter-widgets/controls",
      "_model_module_version": "1.5.0",
      "_model_name": "DescriptionStyleModel",
      "_view_count": null,
      "_view_module": "@jupyter-widgets/base",
      "_view_module_version": "1.2.0",
      "_view_name": "StyleView",
      "description_width": ""
     }
    },
    "ad3a7732eb4448d7bc536a716cd4d7d3": {
     "model_module": "@jupyter-widgets/controls",
     "model_module_version": "1.5.0",
     "model_name": "ProgressStyleModel",
     "state": {
      "_model_module": "@jupyter-widgets/controls",
      "_model_module_version": "1.5.0",
      "_model_name": "ProgressStyleModel",
      "_view_count": null,
      "_view_module": "@jupyter-widgets/base",
      "_view_module_version": "1.2.0",
      "_view_name": "StyleView",
      "bar_color": null,
      "description_width": ""
     }
    },
    "b82b6b7924e745abb668f40b00ab851a": {
     "model_module": "@jupyter-widgets/base",
     "model_module_version": "1.2.0",
     "model_name": "LayoutModel",
     "state": {
      "_model_module": "@jupyter-widgets/base",
      "_model_module_version": "1.2.0",
      "_model_name": "LayoutModel",
      "_view_count": null,
      "_view_module": "@jupyter-widgets/base",
      "_view_module_version": "1.2.0",
      "_view_name": "LayoutView",
      "align_content": null,
      "align_items": null,
      "align_self": null,
      "border": null,
      "bottom": null,
      "display": null,
      "flex": null,
      "flex_flow": null,
      "grid_area": null,
      "grid_auto_columns": null,
      "grid_auto_flow": null,
      "grid_auto_rows": null,
      "grid_column": null,
      "grid_gap": null,
      "grid_row": null,
      "grid_template_areas": null,
      "grid_template_columns": null,
      "grid_template_rows": null,
      "height": null,
      "justify_content": null,
      "justify_items": null,
      "left": null,
      "margin": null,
      "max_height": null,
      "max_width": null,
      "min_height": null,
      "min_width": null,
      "object_fit": null,
      "object_position": null,
      "order": null,
      "overflow": null,
      "overflow_x": null,
      "overflow_y": null,
      "padding": null,
      "right": null,
      "top": null,
      "visibility": "hidden",
      "width": null
     }
    },
    "b99e90e1ba0e4985a99b0f4823ce6f74": {
     "model_module": "@jupyter-widgets/controls",
     "model_module_version": "1.5.0",
     "model_name": "DescriptionStyleModel",
     "state": {
      "_model_module": "@jupyter-widgets/controls",
      "_model_module_version": "1.5.0",
      "_model_name": "DescriptionStyleModel",
      "_view_count": null,
      "_view_module": "@jupyter-widgets/base",
      "_view_module_version": "1.2.0",
      "_view_name": "StyleView",
      "description_width": ""
     }
    },
    "c71ee70c929d4159acc5e66dc98fea99": {
     "model_module": "@jupyter-widgets/base",
     "model_module_version": "1.2.0",
     "model_name": "LayoutModel",
     "state": {
      "_model_module": "@jupyter-widgets/base",
      "_model_module_version": "1.2.0",
      "_model_name": "LayoutModel",
      "_view_count": null,
      "_view_module": "@jupyter-widgets/base",
      "_view_module_version": "1.2.0",
      "_view_name": "LayoutView",
      "align_content": null,
      "align_items": null,
      "align_self": null,
      "border": null,
      "bottom": null,
      "display": null,
      "flex": null,
      "flex_flow": null,
      "grid_area": null,
      "grid_auto_columns": null,
      "grid_auto_flow": null,
      "grid_auto_rows": null,
      "grid_column": null,
      "grid_gap": null,
      "grid_row": null,
      "grid_template_areas": null,
      "grid_template_columns": null,
      "grid_template_rows": null,
      "height": null,
      "justify_content": null,
      "justify_items": null,
      "left": null,
      "margin": null,
      "max_height": null,
      "max_width": null,
      "min_height": null,
      "min_width": null,
      "object_fit": null,
      "object_position": null,
      "order": null,
      "overflow": null,
      "overflow_x": null,
      "overflow_y": null,
      "padding": null,
      "right": null,
      "top": null,
      "visibility": null,
      "width": "20px"
     }
    },
    "dd8762b10e3d481aa9adad6128fb6e0c": {
     "model_module": "@jupyter-widgets/controls",
     "model_module_version": "1.5.0",
     "model_name": "HTMLModel",
     "state": {
      "_dom_classes": [],
      "_model_module": "@jupyter-widgets/controls",
      "_model_module_version": "1.5.0",
      "_model_name": "HTMLModel",
      "_view_count": null,
      "_view_module": "@jupyter-widgets/controls",
      "_view_module_version": "1.5.0",
      "_view_name": "HTMLView",
      "description": "",
      "description_tooltip": null,
      "layout": "IPY_MODEL_fb1e76c859c247709aa22a198207f41a",
      "placeholder": "​",
      "style": "IPY_MODEL_b99e90e1ba0e4985a99b0f4823ce6f74",
      "value": " 4.64G/4.64G [02:29&lt;00:00, 19.9MB/s]"
     }
    },
    "fb1e76c859c247709aa22a198207f41a": {
     "model_module": "@jupyter-widgets/base",
     "model_module_version": "1.2.0",
     "model_name": "LayoutModel",
     "state": {
      "_model_module": "@jupyter-widgets/base",
      "_model_module_version": "1.2.0",
      "_model_name": "LayoutModel",
      "_view_count": null,
      "_view_module": "@jupyter-widgets/base",
      "_view_module_version": "1.2.0",
      "_view_name": "LayoutView",
      "align_content": null,
      "align_items": null,
      "align_self": null,
      "border": null,
      "bottom": null,
      "display": null,
      "flex": null,
      "flex_flow": null,
      "grid_area": null,
      "grid_auto_columns": null,
      "grid_auto_flow": null,
      "grid_auto_rows": null,
      "grid_column": null,
      "grid_gap": null,
      "grid_row": null,
      "grid_template_areas": null,
      "grid_template_columns": null,
      "grid_template_rows": null,
      "height": null,
      "justify_content": null,
      "justify_items": null,
      "left": null,
      "margin": null,
      "max_height": null,
      "max_width": null,
      "min_height": null,
      "min_width": null,
      "object_fit": null,
      "object_position": null,
      "order": null,
      "overflow": null,
      "overflow_x": null,
      "overflow_y": null,
      "padding": null,
      "right": null,
      "top": null,
      "visibility": null,
      "width": null
     }
    }
   }
  }
 },
 "nbformat": 4,
 "nbformat_minor": 4
}
