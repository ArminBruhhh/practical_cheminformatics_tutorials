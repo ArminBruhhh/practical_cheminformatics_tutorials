{
  "nbformat": 4,
  "nbformat_minor": 0,
  "metadata": {
    "colab": {
      "provenance": []
    },
    "kernelspec": {
      "name": "python3",
      "display_name": "Python 3"
    },
    "language_info": {
      "name": "python"
    },
    "widgets": {
      "application/vnd.jupyter.widget-state+json": {
        "0d7f709341e44e2fa8476b919ed92bb0": {
          "model_module": "@jupyter-widgets/controls",
          "model_name": "HBoxModel",
          "model_module_version": "1.5.0",
          "state": {
            "_dom_classes": [],
            "_model_module": "@jupyter-widgets/controls",
            "_model_module_version": "1.5.0",
            "_model_name": "HBoxModel",
            "_view_count": null,
            "_view_module": "@jupyter-widgets/controls",
            "_view_module_version": "1.5.0",
            "_view_name": "HBoxView",
            "box_style": "",
            "children": [
              "IPY_MODEL_33d9280b0831492dadf2d3f7ee9c69ea",
              "IPY_MODEL_3bccef9e9d654155b83f94ce1d836222",
              "IPY_MODEL_dd8762b10e3d481aa9adad6128fb6e0c"
            ],
            "layout": "IPY_MODEL_b82b6b7924e745abb668f40b00ab851a"
          }
        },
        "33d9280b0831492dadf2d3f7ee9c69ea": {
          "model_module": "@jupyter-widgets/controls",
          "model_name": "HTMLModel",
          "model_module_version": "1.5.0",
          "state": {
            "_dom_classes": [],
            "_model_module": "@jupyter-widgets/controls",
            "_model_module_version": "1.5.0",
            "_model_name": "HTMLModel",
            "_view_count": null,
            "_view_module": "@jupyter-widgets/controls",
            "_view_module_version": "1.5.0",
            "_view_name": "HTMLView",
            "description": "",
            "description_tooltip": null,
            "layout": "IPY_MODEL_3dd7ca0b72c245b2ad76ab5ae26150e4",
            "placeholder": "​",
            "style": "IPY_MODEL_75130be112734114a1bf0d4d24b2dc89",
            "value": "Downloading chembl_35_sqlite.tar.gz: 100%"
          }
        },
        "3bccef9e9d654155b83f94ce1d836222": {
          "model_module": "@jupyter-widgets/controls",
          "model_name": "FloatProgressModel",
          "model_module_version": "1.5.0",
          "state": {
            "_dom_classes": [],
            "_model_module": "@jupyter-widgets/controls",
            "_model_module_version": "1.5.0",
            "_model_name": "FloatProgressModel",
            "_view_count": null,
            "_view_module": "@jupyter-widgets/controls",
            "_view_module_version": "1.5.0",
            "_view_name": "ProgressView",
            "bar_style": "info",
            "description": "",
            "description_tooltip": null,
            "layout": "IPY_MODEL_c71ee70c929d4159acc5e66dc98fea99",
            "max": 1,
            "min": 0,
            "orientation": "horizontal",
            "style": "IPY_MODEL_ad3a7732eb4448d7bc536a716cd4d7d3",
            "value": 1
          }
        },
        "dd8762b10e3d481aa9adad6128fb6e0c": {
          "model_module": "@jupyter-widgets/controls",
          "model_name": "HTMLModel",
          "model_module_version": "1.5.0",
          "state": {
            "_dom_classes": [],
            "_model_module": "@jupyter-widgets/controls",
            "_model_module_version": "1.5.0",
            "_model_name": "HTMLModel",
            "_view_count": null,
            "_view_module": "@jupyter-widgets/controls",
            "_view_module_version": "1.5.0",
            "_view_name": "HTMLView",
            "description": "",
            "description_tooltip": null,
            "layout": "IPY_MODEL_fb1e76c859c247709aa22a198207f41a",
            "placeholder": "​",
            "style": "IPY_MODEL_b99e90e1ba0e4985a99b0f4823ce6f74",
            "value": " 4.64G/4.64G [02:29&lt;00:00, 19.9MB/s]"
          }
        },
        "b82b6b7924e745abb668f40b00ab851a": {
          "model_module": "@jupyter-widgets/base",
          "model_name": "LayoutModel",
          "model_module_version": "1.2.0",
          "state": {
            "_model_module": "@jupyter-widgets/base",
            "_model_module_version": "1.2.0",
            "_model_name": "LayoutModel",
            "_view_count": null,
            "_view_module": "@jupyter-widgets/base",
            "_view_module_version": "1.2.0",
            "_view_name": "LayoutView",
            "align_content": null,
            "align_items": null,
            "align_self": null,
            "border": null,
            "bottom": null,
            "display": null,
            "flex": null,
            "flex_flow": null,
            "grid_area": null,
            "grid_auto_columns": null,
            "grid_auto_flow": null,
            "grid_auto_rows": null,
            "grid_column": null,
            "grid_gap": null,
            "grid_row": null,
            "grid_template_areas": null,
            "grid_template_columns": null,
            "grid_template_rows": null,
            "height": null,
            "justify_content": null,
            "justify_items": null,
            "left": null,
            "margin": null,
            "max_height": null,
            "max_width": null,
            "min_height": null,
            "min_width": null,
            "object_fit": null,
            "object_position": null,
            "order": null,
            "overflow": null,
            "overflow_x": null,
            "overflow_y": null,
            "padding": null,
            "right": null,
            "top": null,
            "visibility": "hidden",
            "width": null
          }
        },
        "3dd7ca0b72c245b2ad76ab5ae26150e4": {
          "model_module": "@jupyter-widgets/base",
          "model_name": "LayoutModel",
          "model_module_version": "1.2.0",
          "state": {
            "_model_module": "@jupyter-widgets/base",
            "_model_module_version": "1.2.0",
            "_model_name": "LayoutModel",
            "_view_count": null,
            "_view_module": "@jupyter-widgets/base",
            "_view_module_version": "1.2.0",
            "_view_name": "LayoutView",
            "align_content": null,
            "align_items": null,
            "align_self": null,
            "border": null,
            "bottom": null,
            "display": null,
            "flex": null,
            "flex_flow": null,
            "grid_area": null,
            "grid_auto_columns": null,
            "grid_auto_flow": null,
            "grid_auto_rows": null,
            "grid_column": null,
            "grid_gap": null,
            "grid_row": null,
            "grid_template_areas": null,
            "grid_template_columns": null,
            "grid_template_rows": null,
            "height": null,
            "justify_content": null,
            "justify_items": null,
            "left": null,
            "margin": null,
            "max_height": null,
            "max_width": null,
            "min_height": null,
            "min_width": null,
            "object_fit": null,
            "object_position": null,
            "order": null,
            "overflow": null,
            "overflow_x": null,
            "overflow_y": null,
            "padding": null,
            "right": null,
            "top": null,
            "visibility": null,
            "width": null
          }
        },
        "75130be112734114a1bf0d4d24b2dc89": {
          "model_module": "@jupyter-widgets/controls",
          "model_name": "DescriptionStyleModel",
          "model_module_version": "1.5.0",
          "state": {
            "_model_module": "@jupyter-widgets/controls",
            "_model_module_version": "1.5.0",
            "_model_name": "DescriptionStyleModel",
            "_view_count": null,
            "_view_module": "@jupyter-widgets/base",
            "_view_module_version": "1.2.0",
            "_view_name": "StyleView",
            "description_width": ""
          }
        },
        "c71ee70c929d4159acc5e66dc98fea99": {
          "model_module": "@jupyter-widgets/base",
          "model_name": "LayoutModel",
          "model_module_version": "1.2.0",
          "state": {
            "_model_module": "@jupyter-widgets/base",
            "_model_module_version": "1.2.0",
            "_model_name": "LayoutModel",
            "_view_count": null,
            "_view_module": "@jupyter-widgets/base",
            "_view_module_version": "1.2.0",
            "_view_name": "LayoutView",
            "align_content": null,
            "align_items": null,
            "align_self": null,
            "border": null,
            "bottom": null,
            "display": null,
            "flex": null,
            "flex_flow": null,
            "grid_area": null,
            "grid_auto_columns": null,
            "grid_auto_flow": null,
            "grid_auto_rows": null,
            "grid_column": null,
            "grid_gap": null,
            "grid_row": null,
            "grid_template_areas": null,
            "grid_template_columns": null,
            "grid_template_rows": null,
            "height": null,
            "justify_content": null,
            "justify_items": null,
            "left": null,
            "margin": null,
            "max_height": null,
            "max_width": null,
            "min_height": null,
            "min_width": null,
            "object_fit": null,
            "object_position": null,
            "order": null,
            "overflow": null,
            "overflow_x": null,
            "overflow_y": null,
            "padding": null,
            "right": null,
            "top": null,
            "visibility": null,
            "width": "20px"
          }
        },
        "ad3a7732eb4448d7bc536a716cd4d7d3": {
          "model_module": "@jupyter-widgets/controls",
          "model_name": "ProgressStyleModel",
          "model_module_version": "1.5.0",
          "state": {
            "_model_module": "@jupyter-widgets/controls",
            "_model_module_version": "1.5.0",
            "_model_name": "ProgressStyleModel",
            "_view_count": null,
            "_view_module": "@jupyter-widgets/base",
            "_view_module_version": "1.2.0",
            "_view_name": "StyleView",
            "bar_color": null,
            "description_width": ""
          }
        },
        "fb1e76c859c247709aa22a198207f41a": {
          "model_module": "@jupyter-widgets/base",
          "model_name": "LayoutModel",
          "model_module_version": "1.2.0",
          "state": {
            "_model_module": "@jupyter-widgets/base",
            "_model_module_version": "1.2.0",
            "_model_name": "LayoutModel",
            "_view_count": null,
            "_view_module": "@jupyter-widgets/base",
            "_view_module_version": "1.2.0",
            "_view_name": "LayoutView",
            "align_content": null,
            "align_items": null,
            "align_self": null,
            "border": null,
            "bottom": null,
            "display": null,
            "flex": null,
            "flex_flow": null,
            "grid_area": null,
            "grid_auto_columns": null,
            "grid_auto_flow": null,
            "grid_auto_rows": null,
            "grid_column": null,
            "grid_gap": null,
            "grid_row": null,
            "grid_template_areas": null,
            "grid_template_columns": null,
            "grid_template_rows": null,
            "height": null,
            "justify_content": null,
            "justify_items": null,
            "left": null,
            "margin": null,
            "max_height": null,
            "max_width": null,
            "min_height": null,
            "min_width": null,
            "object_fit": null,
            "object_position": null,
            "order": null,
            "overflow": null,
            "overflow_x": null,
            "overflow_y": null,
            "padding": null,
            "right": null,
            "top": null,
            "visibility": null,
            "width": null
          }
        },
        "b99e90e1ba0e4985a99b0f4823ce6f74": {
          "model_module": "@jupyter-widgets/controls",
          "model_name": "DescriptionStyleModel",
          "model_module_version": "1.5.0",
          "state": {
            "_model_module": "@jupyter-widgets/controls",
            "_model_module_version": "1.5.0",
            "_model_name": "DescriptionStyleModel",
            "_view_count": null,
            "_view_module": "@jupyter-widgets/base",
            "_view_module_version": "1.2.0",
            "_view_name": "StyleView",
            "description_width": ""
          }
        }
      }
    }
  },
  "cells": [
    {
      "cell_type": "markdown",
      "source": [
        "# Curating a Dataset From the ChEMBL Database\n",
        "\n",
        "In this notebook, we'll download and format data from the [ChEMBL](https://www.ebi.ac.uk/chembl/) database for machine learning (ML) purposes. To begin, we need to identify the **ChEMBL ID** for our target of interest. This is often easiest to do by using the **UniProt ID**, which can typically be found from a [UniProt Website](https://www.uniprot.org/) or looking at a relevant protein structure in the PDB. For this notebook, we will download data for [Epidermal Growth Factor Receptor (EGFR)](https://www.uniprot.org/uniprotkb/P00533/entry), a protein that plays a significant role in cancer.\n",
        "\n",
        "Our task is made easier by the [chembl-downloader](https://github.com/cthoyt/chembl-downloader) package written Charles Tapley-Hoyt. This library simplifies the process of downloading and querying the ChEMBL database. For more on the chEMBL-downloader please see Charlie's [paper](https://joss.theoj.org/papers/10.21105/joss.08844) in The Journal of Open Source Software."
      ],
      "metadata": {
        "id": "pMiXbQ9xnIT4"
      }
    },
    {
      "cell_type": "markdown",
      "source": [
        "Install the necessary Python libraries"
      ],
      "metadata": {
        "id": "31cj6RGonRzw"
      }
    },
    {
      "cell_type": "code",
      "execution_count": 15,
      "metadata": {
        "colab": {
          "base_uri": "https://localhost:8080/"
        },
        "id": "2QAJuk1VJlSX",
        "outputId": "380c325a-7d6d-42f0-ed49-aba4bd4fbe40"
      },
      "outputs": [
        {
          "output_type": "stream",
          "name": "stdout",
          "text": [
            "\u001b[2mUsing Python 3.12.11 environment at: /usr\u001b[0m\n",
            "\u001b[2mAudited \u001b[1m2 packages\u001b[0m \u001b[2min 248ms\u001b[0m\u001b[0m\n"
          ]
        }
      ],
      "source": [
        "import sys\n",
        "IN_COLAB = 'google.colab' in sys.modules\n",
        "if IN_COLAB:\n",
        "  !uv pip install --system pandas chembl_downloader"
      ]
    },
    {
      "cell_type": "markdown",
      "source": [
        "Import the libraries we will use\n",
        "- chembl_downloader - allows easy downloads and access to the ChEMBL database\n",
        "- pandas - enables access to data tables\n",
        "- sys - provides access to system functionality\n",
        "- files - allows downloads from Google Colab"
      ],
      "metadata": {
        "id": "IelA6-5unaYC"
      }
    },
    {
      "cell_type": "code",
      "source": [
        "import chembl_downloader\n",
        "import pandas as pd\n",
        "import sys\n",
        "IN_COLAB = 'google.colab' in sys.modules\n",
        "if IN_COLAB:\n",
        "  from google.colab import files"
      ],
      "metadata": {
        "id": "vsSQilSQOfte"
      },
      "execution_count": 3,
      "outputs": []
    },
    {
      "cell_type": "markdown",
      "source": [
        "To begin, we will use the chembl-downloader to download a file containing the mapping of UniProt IDs to ChEMBL IDs. Once we've downloaded the file we can look up the ChEMBL ID corresponding to the UniProt ID for EGFR."
      ],
      "metadata": {
        "id": "82dEAz5IzPZN"
      }
    },
    {
      "cell_type": "code",
      "source": [
        "uniprot_path = chembl_downloader.download_uniprot_mapping()\n",
        "uniprot_df = pd.read_csv(uniprot_path,sep=\"\\t\",names=[\"UniProt\", \"ChEMBL_ID\",\"Name\",\"Target_Type\"],comment=\"#\")\n",
        "uniprot_df.query(\"UniProt == 'P00533' and Target_Type == 'SINGLE PROTEIN'\")"
      ],
      "metadata": {
        "colab": {
          "base_uri": "https://localhost:8080/",
          "height": 81
        },
        "id": "aXsGJ2Z0S-W3",
        "outputId": "2ede39b8-057e-44b7-832d-126f9fb8d068"
      },
      "execution_count": 17,
      "outputs": [
        {
          "output_type": "execute_result",
          "data": {
            "text/plain": [
              "    UniProt  ChEMBL_ID                                    Name     Target_Type\n",
              "306  P00533  CHEMBL203  Epidermal growth factor receptor erbB1  SINGLE PROTEIN"
            ],
            "text/html": [
              "\n",
              "  <div id=\"df-8c0b744c-1945-47d3-9516-fd00dc09a2ee\" class=\"colab-df-container\">\n",
              "    <div>\n",
              "<style scoped>\n",
              "    .dataframe tbody tr th:only-of-type {\n",
              "        vertical-align: middle;\n",
              "    }\n",
              "\n",
              "    .dataframe tbody tr th {\n",
              "        vertical-align: top;\n",
              "    }\n",
              "\n",
              "    .dataframe thead th {\n",
              "        text-align: right;\n",
              "    }\n",
              "</style>\n",
              "<table border=\"1\" class=\"dataframe\">\n",
              "  <thead>\n",
              "    <tr style=\"text-align: right;\">\n",
              "      <th></th>\n",
              "      <th>UniProt</th>\n",
              "      <th>ChEMBL_ID</th>\n",
              "      <th>Name</th>\n",
              "      <th>Target_Type</th>\n",
              "    </tr>\n",
              "  </thead>\n",
              "  <tbody>\n",
              "    <tr>\n",
              "      <th>306</th>\n",
              "      <td>P00533</td>\n",
              "      <td>CHEMBL203</td>\n",
              "      <td>Epidermal growth factor receptor erbB1</td>\n",
              "      <td>SINGLE PROTEIN</td>\n",
              "    </tr>\n",
              "  </tbody>\n",
              "</table>\n",
              "</div>\n",
              "    <div class=\"colab-df-buttons\">\n",
              "\n",
              "  <div class=\"colab-df-container\">\n",
              "    <button class=\"colab-df-convert\" onclick=\"convertToInteractive('df-8c0b744c-1945-47d3-9516-fd00dc09a2ee')\"\n",
              "            title=\"Convert this dataframe to an interactive table.\"\n",
              "            style=\"display:none;\">\n",
              "\n",
              "  <svg xmlns=\"http://www.w3.org/2000/svg\" height=\"24px\" viewBox=\"0 -960 960 960\">\n",
              "    <path d=\"M120-120v-720h720v720H120Zm60-500h600v-160H180v160Zm220 220h160v-160H400v160Zm0 220h160v-160H400v160ZM180-400h160v-160H180v160Zm440 0h160v-160H620v160ZM180-180h160v-160H180v160Zm440 0h160v-160H620v160Z\"/>\n",
              "  </svg>\n",
              "    </button>\n",
              "\n",
              "  <style>\n",
              "    .colab-df-container {\n",
              "      display:flex;\n",
              "      gap: 12px;\n",
              "    }\n",
              "\n",
              "    .colab-df-convert {\n",
              "      background-color: #E8F0FE;\n",
              "      border: none;\n",
              "      border-radius: 50%;\n",
              "      cursor: pointer;\n",
              "      display: none;\n",
              "      fill: #1967D2;\n",
              "      height: 32px;\n",
              "      padding: 0 0 0 0;\n",
              "      width: 32px;\n",
              "    }\n",
              "\n",
              "    .colab-df-convert:hover {\n",
              "      background-color: #E2EBFA;\n",
              "      box-shadow: 0px 1px 2px rgba(60, 64, 67, 0.3), 0px 1px 3px 1px rgba(60, 64, 67, 0.15);\n",
              "      fill: #174EA6;\n",
              "    }\n",
              "\n",
              "    .colab-df-buttons div {\n",
              "      margin-bottom: 4px;\n",
              "    }\n",
              "\n",
              "    [theme=dark] .colab-df-convert {\n",
              "      background-color: #3B4455;\n",
              "      fill: #D2E3FC;\n",
              "    }\n",
              "\n",
              "    [theme=dark] .colab-df-convert:hover {\n",
              "      background-color: #434B5C;\n",
              "      box-shadow: 0px 1px 3px 1px rgba(0, 0, 0, 0.15);\n",
              "      filter: drop-shadow(0px 1px 2px rgba(0, 0, 0, 0.3));\n",
              "      fill: #FFFFFF;\n",
              "    }\n",
              "  </style>\n",
              "\n",
              "    <script>\n",
              "      const buttonEl =\n",
              "        document.querySelector('#df-8c0b744c-1945-47d3-9516-fd00dc09a2ee button.colab-df-convert');\n",
              "      buttonEl.style.display =\n",
              "        google.colab.kernel.accessAllowed ? 'block' : 'none';\n",
              "\n",
              "      async function convertToInteractive(key) {\n",
              "        const element = document.querySelector('#df-8c0b744c-1945-47d3-9516-fd00dc09a2ee');\n",
              "        const dataTable =\n",
              "          await google.colab.kernel.invokeFunction('convertToInteractive',\n",
              "                                                    [key], {});\n",
              "        if (!dataTable) return;\n",
              "\n",
              "        const docLinkHtml = 'Like what you see? Visit the ' +\n",
              "          '<a target=\"_blank\" href=https://colab.research.google.com/notebooks/data_table.ipynb>data table notebook</a>'\n",
              "          + ' to learn more about interactive tables.';\n",
              "        element.innerHTML = '';\n",
              "        dataTable['output_type'] = 'display_data';\n",
              "        await google.colab.output.renderOutput(dataTable, element);\n",
              "        const docLink = document.createElement('div');\n",
              "        docLink.innerHTML = docLinkHtml;\n",
              "        element.appendChild(docLink);\n",
              "      }\n",
              "    </script>\n",
              "  </div>\n",
              "\n",
              "\n",
              "    </div>\n",
              "  </div>\n"
            ],
            "application/vnd.google.colaboratory.intrinsic+json": {
              "type": "dataframe",
              "summary": "{\n  \"name\": \"uniprot_df\",\n  \"rows\": 1,\n  \"fields\": [\n    {\n      \"column\": \"UniProt\",\n      \"properties\": {\n        \"dtype\": \"string\",\n        \"num_unique_values\": 1,\n        \"samples\": [\n          \"P00533\"\n        ],\n        \"semantic_type\": \"\",\n        \"description\": \"\"\n      }\n    },\n    {\n      \"column\": \"ChEMBL_ID\",\n      \"properties\": {\n        \"dtype\": \"string\",\n        \"num_unique_values\": 1,\n        \"samples\": [\n          \"CHEMBL203\"\n        ],\n        \"semantic_type\": \"\",\n        \"description\": \"\"\n      }\n    },\n    {\n      \"column\": \"Name\",\n      \"properties\": {\n        \"dtype\": \"string\",\n        \"num_unique_values\": 1,\n        \"samples\": [\n          \"Epidermal growth factor receptor erbB1\"\n        ],\n        \"semantic_type\": \"\",\n        \"description\": \"\"\n      }\n    },\n    {\n      \"column\": \"Target_Type\",\n      \"properties\": {\n        \"dtype\": \"string\",\n        \"num_unique_values\": 1,\n        \"samples\": [\n          \"SINGLE PROTEIN\"\n        ],\n        \"semantic_type\": \"\",\n        \"description\": \"\"\n      }\n    }\n  ]\n}"
            }
          },
          "metadata": {},
          "execution_count": 17
        }
      ]
    },
    {
      "cell_type": "markdown",
      "source": [
        "To access the data corresponding to our target of interest, we need to use a relatively complex SQL query.  I borrowed thiis query from the [OpenADMET](https://github.com/OpenADMET/openadmet-toolkit/blob/main/openadmet/toolkit/database/chembl.py) data curation workflow. The function below encapsulates this query.  We provide the ChEMBL ID as input and the fuction returns the sql query."
      ],
      "metadata": {
        "id": "WSPkk1fRiRZp"
      }
    },
    {
      "cell_type": "code",
      "source": [
        "def get_query(chembl_id):\n",
        "  query =f\"\"\"       -- Get all the activity data for a given target using its ChEMBL ID.\n",
        "        select\n",
        "            activities.assay_id                  as assay_id,\n",
        "            activities.doc_id                    as doc_id,\n",
        "            activities.standard_value            as standard_value,\n",
        "            molecule_hierarchy.parent_molregno   as molregno,\n",
        "            compound_structures.canonical_smiles as canonical_smiles,\n",
        "            compound_structures.standard_inchi_key as standard_inchi_key,\n",
        "            target_dictionary.tid                as tid,\n",
        "            target_dictionary.chembl_id          as target_chembl_id,\n",
        "            pchembl_value                        as pchembl_value,\n",
        "            molecule_dictionary.pref_name        as compound_name,\n",
        "            activities.standard_type             as standard_type,\n",
        "            activities.bao_endpoint              as bao_endpoint,\n",
        "            assays.description                   as assay_description,\n",
        "            assays.assay_organism                as assay_organism,\n",
        "            assays.assay_strain                  as assay_strain,\n",
        "            assays.assay_tissue                  as assay_tissue,\n",
        "            assays.assay_type                    as assay_type,\n",
        "            assays.assay_cell_type               as assay_cell_type,\n",
        "            assays.assay_subcellular_fraction    as assay_subcellular_fraction,\n",
        "            assays.variant_id                    as variant_id,\n",
        "            docs.year                            as doc_year,\n",
        "            docs.journal                         as doc_journal,\n",
        "            docs.doi                             as doc_doi,\n",
        "            docs.title                           as doc_title,\n",
        "            docs.authors                         as doc_authors,\n",
        "            docs.abstract                        as doc_abstract,\n",
        "            docs.patent_id                       as doc_patent_id,\n",
        "            docs.pubmed_id                       as doc_pubmed_id,\n",
        "            docs.chembl_release_id               as doc_chembl_release_id\n",
        "        from activities\n",
        "        join assays ON activities.assay_id = assays.assay_id\n",
        "        join target_dictionary ON assays.tid = target_dictionary.tid\n",
        "        join target_components ON target_dictionary.tid = target_components.tid\n",
        "        join component_class ON target_components.component_id = component_class.component_id\n",
        "        join docs ON activities.doc_id = docs.doc_id\n",
        "        join molecule_dictionary ON activities.molregno = molecule_dictionary.molregno\n",
        "        join molecule_hierarchy ON molecule_dictionary.molregno = molecule_hierarchy.molregno\n",
        "        join compound_structures ON molecule_hierarchy.parent_molregno = compound_structures.molregno\n",
        "        where target_chembl_id = '{chembl_id}'\n",
        "        and activities.data_validity_comment IS null\n",
        "        and activities.standard_units = 'nM'\n",
        "        and pchembl_value is not null\"\"\"\n",
        "  return query"
      ],
      "metadata": {
        "id": "ZtX801b1J_kk"
      },
      "execution_count": 5,
      "outputs": []
    },
    {
      "cell_type": "markdown",
      "source": [
        "Use the function above to get the SQL query."
      ],
      "metadata": {
        "id": "SFr-28urjXwt"
      }
    },
    {
      "cell_type": "code",
      "source": [
        "chembl_id = 'CHEMBL203'\n",
        "sql = get_query(chembl_id)"
      ],
      "metadata": {
        "id": "ce5hltBLN-vv"
      },
      "execution_count": 6,
      "outputs": []
    },
    {
      "cell_type": "markdown",
      "source": [
        "Run the SQL query. The ChEMBL downloader will first check to see if you've downloaded the ChEMBL database.  If you haven't, it will download and unpack it for you.  On Google Colab this typically takes 5-10 minutes. Run this cell, then go get a cup of coffee.\n",
        "\n",
        "Once the database is downloaded, it will run the query and return the result as a Pandas dataframe. We also write the results to a csv file."
      ],
      "metadata": {
        "id": "R983dByAjiZT"
      }
    },
    {
      "cell_type": "code",
      "source": [
        "%%time\n",
        "df = chembl_downloader.query(sql)\n",
        "df.to_csv(f\"{chembl_id}.csv\", sep='\\t', index=False)"
      ],
      "metadata": {
        "colab": {
          "base_uri": "https://localhost:8080/",
          "height": 52,
          "referenced_widgets": [
            "0d7f709341e44e2fa8476b919ed92bb0",
            "33d9280b0831492dadf2d3f7ee9c69ea",
            "3bccef9e9d654155b83f94ce1d836222",
            "dd8762b10e3d481aa9adad6128fb6e0c",
            "b82b6b7924e745abb668f40b00ab851a",
            "3dd7ca0b72c245b2ad76ab5ae26150e4",
            "75130be112734114a1bf0d4d24b2dc89",
            "c71ee70c929d4159acc5e66dc98fea99",
            "ad3a7732eb4448d7bc536a716cd4d7d3",
            "fb1e76c859c247709aa22a198207f41a",
            "b99e90e1ba0e4985a99b0f4823ce6f74"
          ]
        },
        "id": "IG5WXgAUNDEi",
        "outputId": "03a28ce5-10d3-4173-fc7b-c6ad462115e4"
      },
      "execution_count": 7,
      "outputs": [
        {
          "output_type": "display_data",
          "data": {
            "text/plain": [
              "Downloading chembl_35_sqlite.tar.gz: 0.00B [00:00, ?B/s]"
            ],
            "application/vnd.jupyter.widget-view+json": {
              "version_major": 2,
              "version_minor": 0,
              "model_id": "0d7f709341e44e2fa8476b919ed92bb0"
            }
          },
          "metadata": {}
        },
        {
          "output_type": "stream",
          "name": "stdout",
          "text": [
            "CPU times: user 3min 2s, sys: 59.2 s, total: 4min 1s\n",
            "Wall time: 8min 28s\n"
          ]
        }
      ]
    },
    {
      "cell_type": "markdown",
      "source": [
        "Let's look at how many of each of the result types are available in the data we downloaded."
      ],
      "metadata": {
        "id": "mR40g5MZkVQE"
      }
    },
    {
      "cell_type": "code",
      "source": [
        "df.standard_type.value_counts()"
      ],
      "metadata": {
        "colab": {
          "base_uri": "https://localhost:8080/",
          "height": 304
        },
        "id": "KvQ-P_bhOjw4",
        "outputId": "caa8a33c-ec06-4009-b9c4-632f772b5c8e"
      },
      "execution_count": 10,
      "outputs": [
        {
          "output_type": "execute_result",
          "data": {
            "text/plain": [
              "standard_type\n",
              "IC50       13158\n",
              "Kd           809\n",
              "Ki           568\n",
              "EC50         285\n",
              "Potency       35\n",
              "AC50          11\n",
              "Name: count, dtype: int64"
            ],
            "text/html": [
              "<div>\n",
              "<style scoped>\n",
              "    .dataframe tbody tr th:only-of-type {\n",
              "        vertical-align: middle;\n",
              "    }\n",
              "\n",
              "    .dataframe tbody tr th {\n",
              "        vertical-align: top;\n",
              "    }\n",
              "\n",
              "    .dataframe thead th {\n",
              "        text-align: right;\n",
              "    }\n",
              "</style>\n",
              "<table border=\"1\" class=\"dataframe\">\n",
              "  <thead>\n",
              "    <tr style=\"text-align: right;\">\n",
              "      <th></th>\n",
              "      <th>count</th>\n",
              "    </tr>\n",
              "    <tr>\n",
              "      <th>standard_type</th>\n",
              "      <th></th>\n",
              "    </tr>\n",
              "  </thead>\n",
              "  <tbody>\n",
              "    <tr>\n",
              "      <th>IC50</th>\n",
              "      <td>13158</td>\n",
              "    </tr>\n",
              "    <tr>\n",
              "      <th>Kd</th>\n",
              "      <td>809</td>\n",
              "    </tr>\n",
              "    <tr>\n",
              "      <th>Ki</th>\n",
              "      <td>568</td>\n",
              "    </tr>\n",
              "    <tr>\n",
              "      <th>EC50</th>\n",
              "      <td>285</td>\n",
              "    </tr>\n",
              "    <tr>\n",
              "      <th>Potency</th>\n",
              "      <td>35</td>\n",
              "    </tr>\n",
              "    <tr>\n",
              "      <th>AC50</th>\n",
              "      <td>11</td>\n",
              "    </tr>\n",
              "  </tbody>\n",
              "</table>\n",
              "</div><br><label><b>dtype:</b> int64</label>"
            ]
          },
          "metadata": {},
          "execution_count": 10
        }
      ]
    },
    {
      "cell_type": "markdown",
      "source": [
        "As we can see above we have much more IC50 data than any other datatype.  However, as a recent [paper](https://pubs.acs.org/doi/full/10.1021/acs.jcim.4c00049) from Greg Landrum and Sereina Rinker showed, Ki data tends to be more reliable.  Let's download the Ki data.  We will select the three columns critical for building our ML model.\n",
        "- canonical_smiles - the SMILES representation for the chemical structure\n",
        "- molregno - the internal ChEMBL ID for the compounds\n",
        "- pchembl_value - the negative log of the activity"
      ],
      "metadata": {
        "id": "9-aKnwMhlJd5"
      }
    },
    {
      "cell_type": "code",
      "source": [
        "standard_type = \"Ki\"\n",
        "output_df = df.query(\"standard_type == @standard_type\")[[\"canonical_smiles\",\"molregno\",\"pchembl_value\"]].groupby([\"canonical_smiles\",\"molregno\"]).mean()\n",
        "output_df = output_df.reset_index()\n",
        "output_df"
      ],
      "metadata": {
        "colab": {
          "base_uri": "https://localhost:8080/",
          "height": 424
        },
        "id": "Ink2oFDiSUZ7",
        "outputId": "c6b7d29c-7280-49f0-fe0c-a60e16504a7c"
      },
      "execution_count": 11,
      "outputs": [
        {
          "output_type": "execute_result",
          "data": {
            "text/plain": [
              "                                      canonical_smiles  molregno  \\\n",
              "0    C#CCCn1cc(Nc2nc(OC[C@H]3CN(C(=O)C=C)C[C@@H]3OC...   2076850   \n",
              "1       C#CCOc1cc2ncnc(Nc3ccc(F)c(Cl)c3)c2cc1NC(=O)C=C   2076849   \n",
              "2           C#Cc1cccc(Nc2ncnc3cc(OCCOC)c(OCCOC)cc23)c1     14785   \n",
              "3    C=CC(=O)N1CC[C@@H](COc2nc(Nc3cnn(C)c3)nc3[nH]c...   2076841   \n",
              "4    C=CC(=O)N1CC[C@@H](COc2nc(Nc3cnn(C)c3)nc3[nH]c...   2076839   \n",
              "..                                                 ...       ...   \n",
              "384            c1ccc(CNc2cc(-c3c[nH]c4ncccc34)ncn2)cc1   1323637   \n",
              "385                    c1ccc(CNc2ccnc3oc4ccccc4c23)cc1    716387   \n",
              "386              c1ccc(COc2ccc(Nc3ncnc4ccccc34)cc2)cc1   1301454   \n",
              "387                          c1ccc(Nc2ncnc3ccccc23)cc1     55040   \n",
              "388              c1ccc2c(CNc3ccnc4oc5ccccc5c34)cccc2c1    716483   \n",
              "\n",
              "     pchembl_value  \n",
              "0         8.000000  \n",
              "1         8.700000  \n",
              "2         8.547692  \n",
              "3         8.100000  \n",
              "4         6.230000  \n",
              "..             ...  \n",
              "384       6.200000  \n",
              "385       6.230000  \n",
              "386       7.000000  \n",
              "387       7.100000  \n",
              "388       6.170000  \n",
              "\n",
              "[389 rows x 3 columns]"
            ],
            "text/html": [
              "\n",
              "  <div id=\"df-a4c29c12-3b3e-476d-9662-27513101f425\" class=\"colab-df-container\">\n",
              "    <div>\n",
              "<style scoped>\n",
              "    .dataframe tbody tr th:only-of-type {\n",
              "        vertical-align: middle;\n",
              "    }\n",
              "\n",
              "    .dataframe tbody tr th {\n",
              "        vertical-align: top;\n",
              "    }\n",
              "\n",
              "    .dataframe thead th {\n",
              "        text-align: right;\n",
              "    }\n",
              "</style>\n",
              "<table border=\"1\" class=\"dataframe\">\n",
              "  <thead>\n",
              "    <tr style=\"text-align: right;\">\n",
              "      <th></th>\n",
              "      <th>canonical_smiles</th>\n",
              "      <th>molregno</th>\n",
              "      <th>pchembl_value</th>\n",
              "    </tr>\n",
              "  </thead>\n",
              "  <tbody>\n",
              "    <tr>\n",
              "      <th>0</th>\n",
              "      <td>C#CCCn1cc(Nc2nc(OC[C@H]3CN(C(=O)C=C)C[C@@H]3OC...</td>\n",
              "      <td>2076850</td>\n",
              "      <td>8.000000</td>\n",
              "    </tr>\n",
              "    <tr>\n",
              "      <th>1</th>\n",
              "      <td>C#CCOc1cc2ncnc(Nc3ccc(F)c(Cl)c3)c2cc1NC(=O)C=C</td>\n",
              "      <td>2076849</td>\n",
              "      <td>8.700000</td>\n",
              "    </tr>\n",
              "    <tr>\n",
              "      <th>2</th>\n",
              "      <td>C#Cc1cccc(Nc2ncnc3cc(OCCOC)c(OCCOC)cc23)c1</td>\n",
              "      <td>14785</td>\n",
              "      <td>8.547692</td>\n",
              "    </tr>\n",
              "    <tr>\n",
              "      <th>3</th>\n",
              "      <td>C=CC(=O)N1CC[C@@H](COc2nc(Nc3cnn(C)c3)nc3[nH]c...</td>\n",
              "      <td>2076841</td>\n",
              "      <td>8.100000</td>\n",
              "    </tr>\n",
              "    <tr>\n",
              "      <th>4</th>\n",
              "      <td>C=CC(=O)N1CC[C@@H](COc2nc(Nc3cnn(C)c3)nc3[nH]c...</td>\n",
              "      <td>2076839</td>\n",
              "      <td>6.230000</td>\n",
              "    </tr>\n",
              "    <tr>\n",
              "      <th>...</th>\n",
              "      <td>...</td>\n",
              "      <td>...</td>\n",
              "      <td>...</td>\n",
              "    </tr>\n",
              "    <tr>\n",
              "      <th>384</th>\n",
              "      <td>c1ccc(CNc2cc(-c3c[nH]c4ncccc34)ncn2)cc1</td>\n",
              "      <td>1323637</td>\n",
              "      <td>6.200000</td>\n",
              "    </tr>\n",
              "    <tr>\n",
              "      <th>385</th>\n",
              "      <td>c1ccc(CNc2ccnc3oc4ccccc4c23)cc1</td>\n",
              "      <td>716387</td>\n",
              "      <td>6.230000</td>\n",
              "    </tr>\n",
              "    <tr>\n",
              "      <th>386</th>\n",
              "      <td>c1ccc(COc2ccc(Nc3ncnc4ccccc34)cc2)cc1</td>\n",
              "      <td>1301454</td>\n",
              "      <td>7.000000</td>\n",
              "    </tr>\n",
              "    <tr>\n",
              "      <th>387</th>\n",
              "      <td>c1ccc(Nc2ncnc3ccccc23)cc1</td>\n",
              "      <td>55040</td>\n",
              "      <td>7.100000</td>\n",
              "    </tr>\n",
              "    <tr>\n",
              "      <th>388</th>\n",
              "      <td>c1ccc2c(CNc3ccnc4oc5ccccc5c34)cccc2c1</td>\n",
              "      <td>716483</td>\n",
              "      <td>6.170000</td>\n",
              "    </tr>\n",
              "  </tbody>\n",
              "</table>\n",
              "<p>389 rows × 3 columns</p>\n",
              "</div>\n",
              "    <div class=\"colab-df-buttons\">\n",
              "\n",
              "  <div class=\"colab-df-container\">\n",
              "    <button class=\"colab-df-convert\" onclick=\"convertToInteractive('df-a4c29c12-3b3e-476d-9662-27513101f425')\"\n",
              "            title=\"Convert this dataframe to an interactive table.\"\n",
              "            style=\"display:none;\">\n",
              "\n",
              "  <svg xmlns=\"http://www.w3.org/2000/svg\" height=\"24px\" viewBox=\"0 -960 960 960\">\n",
              "    <path d=\"M120-120v-720h720v720H120Zm60-500h600v-160H180v160Zm220 220h160v-160H400v160Zm0 220h160v-160H400v160ZM180-400h160v-160H180v160Zm440 0h160v-160H620v160ZM180-180h160v-160H180v160Zm440 0h160v-160H620v160Z\"/>\n",
              "  </svg>\n",
              "    </button>\n",
              "\n",
              "  <style>\n",
              "    .colab-df-container {\n",
              "      display:flex;\n",
              "      gap: 12px;\n",
              "    }\n",
              "\n",
              "    .colab-df-convert {\n",
              "      background-color: #E8F0FE;\n",
              "      border: none;\n",
              "      border-radius: 50%;\n",
              "      cursor: pointer;\n",
              "      display: none;\n",
              "      fill: #1967D2;\n",
              "      height: 32px;\n",
              "      padding: 0 0 0 0;\n",
              "      width: 32px;\n",
              "    }\n",
              "\n",
              "    .colab-df-convert:hover {\n",
              "      background-color: #E2EBFA;\n",
              "      box-shadow: 0px 1px 2px rgba(60, 64, 67, 0.3), 0px 1px 3px 1px rgba(60, 64, 67, 0.15);\n",
              "      fill: #174EA6;\n",
              "    }\n",
              "\n",
              "    .colab-df-buttons div {\n",
              "      margin-bottom: 4px;\n",
              "    }\n",
              "\n",
              "    [theme=dark] .colab-df-convert {\n",
              "      background-color: #3B4455;\n",
              "      fill: #D2E3FC;\n",
              "    }\n",
              "\n",
              "    [theme=dark] .colab-df-convert:hover {\n",
              "      background-color: #434B5C;\n",
              "      box-shadow: 0px 1px 3px 1px rgba(0, 0, 0, 0.15);\n",
              "      filter: drop-shadow(0px 1px 2px rgba(0, 0, 0, 0.3));\n",
              "      fill: #FFFFFF;\n",
              "    }\n",
              "  </style>\n",
              "\n",
              "    <script>\n",
              "      const buttonEl =\n",
              "        document.querySelector('#df-a4c29c12-3b3e-476d-9662-27513101f425 button.colab-df-convert');\n",
              "      buttonEl.style.display =\n",
              "        google.colab.kernel.accessAllowed ? 'block' : 'none';\n",
              "\n",
              "      async function convertToInteractive(key) {\n",
              "        const element = document.querySelector('#df-a4c29c12-3b3e-476d-9662-27513101f425');\n",
              "        const dataTable =\n",
              "          await google.colab.kernel.invokeFunction('convertToInteractive',\n",
              "                                                    [key], {});\n",
              "        if (!dataTable) return;\n",
              "\n",
              "        const docLinkHtml = 'Like what you see? Visit the ' +\n",
              "          '<a target=\"_blank\" href=https://colab.research.google.com/notebooks/data_table.ipynb>data table notebook</a>'\n",
              "          + ' to learn more about interactive tables.';\n",
              "        element.innerHTML = '';\n",
              "        dataTable['output_type'] = 'display_data';\n",
              "        await google.colab.output.renderOutput(dataTable, element);\n",
              "        const docLink = document.createElement('div');\n",
              "        docLink.innerHTML = docLinkHtml;\n",
              "        element.appendChild(docLink);\n",
              "      }\n",
              "    </script>\n",
              "  </div>\n",
              "\n",
              "\n",
              "    <div id=\"df-a7a5b01b-cb90-42e6-805c-51c6fd359324\">\n",
              "      <button class=\"colab-df-quickchart\" onclick=\"quickchart('df-a7a5b01b-cb90-42e6-805c-51c6fd359324')\"\n",
              "                title=\"Suggest charts\"\n",
              "                style=\"display:none;\">\n",
              "\n",
              "<svg xmlns=\"http://www.w3.org/2000/svg\" height=\"24px\"viewBox=\"0 0 24 24\"\n",
              "     width=\"24px\">\n",
              "    <g>\n",
              "        <path d=\"M19 3H5c-1.1 0-2 .9-2 2v14c0 1.1.9 2 2 2h14c1.1 0 2-.9 2-2V5c0-1.1-.9-2-2-2zM9 17H7v-7h2v7zm4 0h-2V7h2v10zm4 0h-2v-4h2v4z\"/>\n",
              "    </g>\n",
              "</svg>\n",
              "      </button>\n",
              "\n",
              "<style>\n",
              "  .colab-df-quickchart {\n",
              "      --bg-color: #E8F0FE;\n",
              "      --fill-color: #1967D2;\n",
              "      --hover-bg-color: #E2EBFA;\n",
              "      --hover-fill-color: #174EA6;\n",
              "      --disabled-fill-color: #AAA;\n",
              "      --disabled-bg-color: #DDD;\n",
              "  }\n",
              "\n",
              "  [theme=dark] .colab-df-quickchart {\n",
              "      --bg-color: #3B4455;\n",
              "      --fill-color: #D2E3FC;\n",
              "      --hover-bg-color: #434B5C;\n",
              "      --hover-fill-color: #FFFFFF;\n",
              "      --disabled-bg-color: #3B4455;\n",
              "      --disabled-fill-color: #666;\n",
              "  }\n",
              "\n",
              "  .colab-df-quickchart {\n",
              "    background-color: var(--bg-color);\n",
              "    border: none;\n",
              "    border-radius: 50%;\n",
              "    cursor: pointer;\n",
              "    display: none;\n",
              "    fill: var(--fill-color);\n",
              "    height: 32px;\n",
              "    padding: 0;\n",
              "    width: 32px;\n",
              "  }\n",
              "\n",
              "  .colab-df-quickchart:hover {\n",
              "    background-color: var(--hover-bg-color);\n",
              "    box-shadow: 0 1px 2px rgba(60, 64, 67, 0.3), 0 1px 3px 1px rgba(60, 64, 67, 0.15);\n",
              "    fill: var(--button-hover-fill-color);\n",
              "  }\n",
              "\n",
              "  .colab-df-quickchart-complete:disabled,\n",
              "  .colab-df-quickchart-complete:disabled:hover {\n",
              "    background-color: var(--disabled-bg-color);\n",
              "    fill: var(--disabled-fill-color);\n",
              "    box-shadow: none;\n",
              "  }\n",
              "\n",
              "  .colab-df-spinner {\n",
              "    border: 2px solid var(--fill-color);\n",
              "    border-color: transparent;\n",
              "    border-bottom-color: var(--fill-color);\n",
              "    animation:\n",
              "      spin 1s steps(1) infinite;\n",
              "  }\n",
              "\n",
              "  @keyframes spin {\n",
              "    0% {\n",
              "      border-color: transparent;\n",
              "      border-bottom-color: var(--fill-color);\n",
              "      border-left-color: var(--fill-color);\n",
              "    }\n",
              "    20% {\n",
              "      border-color: transparent;\n",
              "      border-left-color: var(--fill-color);\n",
              "      border-top-color: var(--fill-color);\n",
              "    }\n",
              "    30% {\n",
              "      border-color: transparent;\n",
              "      border-left-color: var(--fill-color);\n",
              "      border-top-color: var(--fill-color);\n",
              "      border-right-color: var(--fill-color);\n",
              "    }\n",
              "    40% {\n",
              "      border-color: transparent;\n",
              "      border-right-color: var(--fill-color);\n",
              "      border-top-color: var(--fill-color);\n",
              "    }\n",
              "    60% {\n",
              "      border-color: transparent;\n",
              "      border-right-color: var(--fill-color);\n",
              "    }\n",
              "    80% {\n",
              "      border-color: transparent;\n",
              "      border-right-color: var(--fill-color);\n",
              "      border-bottom-color: var(--fill-color);\n",
              "    }\n",
              "    90% {\n",
              "      border-color: transparent;\n",
              "      border-bottom-color: var(--fill-color);\n",
              "    }\n",
              "  }\n",
              "</style>\n",
              "\n",
              "      <script>\n",
              "        async function quickchart(key) {\n",
              "          const quickchartButtonEl =\n",
              "            document.querySelector('#' + key + ' button');\n",
              "          quickchartButtonEl.disabled = true;  // To prevent multiple clicks.\n",
              "          quickchartButtonEl.classList.add('colab-df-spinner');\n",
              "          try {\n",
              "            const charts = await google.colab.kernel.invokeFunction(\n",
              "                'suggestCharts', [key], {});\n",
              "          } catch (error) {\n",
              "            console.error('Error during call to suggestCharts:', error);\n",
              "          }\n",
              "          quickchartButtonEl.classList.remove('colab-df-spinner');\n",
              "          quickchartButtonEl.classList.add('colab-df-quickchart-complete');\n",
              "        }\n",
              "        (() => {\n",
              "          let quickchartButtonEl =\n",
              "            document.querySelector('#df-a7a5b01b-cb90-42e6-805c-51c6fd359324 button');\n",
              "          quickchartButtonEl.style.display =\n",
              "            google.colab.kernel.accessAllowed ? 'block' : 'none';\n",
              "        })();\n",
              "      </script>\n",
              "    </div>\n",
              "\n",
              "  <div id=\"id_9aa73a63-7848-4025-93e9-6ea82b3030e3\">\n",
              "    <style>\n",
              "      .colab-df-generate {\n",
              "        background-color: #E8F0FE;\n",
              "        border: none;\n",
              "        border-radius: 50%;\n",
              "        cursor: pointer;\n",
              "        display: none;\n",
              "        fill: #1967D2;\n",
              "        height: 32px;\n",
              "        padding: 0 0 0 0;\n",
              "        width: 32px;\n",
              "      }\n",
              "\n",
              "      .colab-df-generate:hover {\n",
              "        background-color: #E2EBFA;\n",
              "        box-shadow: 0px 1px 2px rgba(60, 64, 67, 0.3), 0px 1px 3px 1px rgba(60, 64, 67, 0.15);\n",
              "        fill: #174EA6;\n",
              "      }\n",
              "\n",
              "      [theme=dark] .colab-df-generate {\n",
              "        background-color: #3B4455;\n",
              "        fill: #D2E3FC;\n",
              "      }\n",
              "\n",
              "      [theme=dark] .colab-df-generate:hover {\n",
              "        background-color: #434B5C;\n",
              "        box-shadow: 0px 1px 3px 1px rgba(0, 0, 0, 0.15);\n",
              "        filter: drop-shadow(0px 1px 2px rgba(0, 0, 0, 0.3));\n",
              "        fill: #FFFFFF;\n",
              "      }\n",
              "    </style>\n",
              "    <button class=\"colab-df-generate\" onclick=\"generateWithVariable('output_df')\"\n",
              "            title=\"Generate code using this dataframe.\"\n",
              "            style=\"display:none;\">\n",
              "\n",
              "  <svg xmlns=\"http://www.w3.org/2000/svg\" height=\"24px\"viewBox=\"0 0 24 24\"\n",
              "       width=\"24px\">\n",
              "    <path d=\"M7,19H8.4L18.45,9,17,7.55,7,17.6ZM5,21V16.75L18.45,3.32a2,2,0,0,1,2.83,0l1.4,1.43a1.91,1.91,0,0,1,.58,1.4,1.91,1.91,0,0,1-.58,1.4L9.25,21ZM18.45,9,17,7.55Zm-12,3A5.31,5.31,0,0,0,4.9,8.1,5.31,5.31,0,0,0,1,6.5,5.31,5.31,0,0,0,4.9,4.9,5.31,5.31,0,0,0,6.5,1,5.31,5.31,0,0,0,8.1,4.9,5.31,5.31,0,0,0,12,6.5,5.46,5.46,0,0,0,6.5,12Z\"/>\n",
              "  </svg>\n",
              "    </button>\n",
              "    <script>\n",
              "      (() => {\n",
              "      const buttonEl =\n",
              "        document.querySelector('#id_9aa73a63-7848-4025-93e9-6ea82b3030e3 button.colab-df-generate');\n",
              "      buttonEl.style.display =\n",
              "        google.colab.kernel.accessAllowed ? 'block' : 'none';\n",
              "\n",
              "      buttonEl.onclick = () => {\n",
              "        google.colab.notebook.generateWithVariable('output_df');\n",
              "      }\n",
              "      })();\n",
              "    </script>\n",
              "  </div>\n",
              "\n",
              "    </div>\n",
              "  </div>\n"
            ],
            "application/vnd.google.colaboratory.intrinsic+json": {
              "type": "dataframe",
              "variable_name": "output_df",
              "summary": "{\n  \"name\": \"output_df\",\n  \"rows\": 389,\n  \"fields\": [\n    {\n      \"column\": \"canonical_smiles\",\n      \"properties\": {\n        \"dtype\": \"string\",\n        \"num_unique_values\": 389,\n        \"samples\": [\n          \"Cc1nc2cnc(Nc3ccnc(-c4cnn(S(C)(=O)=O)c4)n3)cc2n1C(C)C\",\n          \"C=CC(=O)Nc1cccc(Oc2nc(Nc3ccc(N4CCN(C)CC4)cc3)nc3[nH]ccc23)c1\",\n          \"COCCOC1CCC(n2nc(-c3ccc(Nc4nc5cc(C)cc(C)c5o4)cc3)c3c(N)ncnc32)CC1\"\n        ],\n        \"semantic_type\": \"\",\n        \"description\": \"\"\n      }\n    },\n    {\n      \"column\": \"molregno\",\n      \"properties\": {\n        \"dtype\": \"number\",\n        \"std\": 730644,\n        \"min\": 2753,\n        \"max\": 2808086,\n        \"num_unique_values\": 389,\n        \"samples\": [\n          2796971,\n          2076848,\n          1305453\n        ],\n        \"semantic_type\": \"\",\n        \"description\": \"\"\n      }\n    },\n    {\n      \"column\": \"pchembl_value\",\n      \"properties\": {\n        \"dtype\": \"number\",\n        \"std\": 1.0189978699701763,\n        \"min\": 4.16,\n        \"max\": 10.223333333333334,\n        \"num_unique_values\": 213,\n        \"samples\": [\n          7.07,\n          5.33,\n          8.25\n        ],\n        \"semantic_type\": \"\",\n        \"description\": \"\"\n      }\n    }\n  ]\n}"
            }
          },
          "metadata": {},
          "execution_count": 11
        }
      ]
    },
    {
      "cell_type": "markdown",
      "source": [
        "Write the data to a csv file."
      ],
      "metadata": {
        "id": "QMF4xDY6njfs"
      }
    },
    {
      "cell_type": "code",
      "source": [
        "outfile_name = f\"{chembl_id}_{standard_type}.csv\"\n",
        "output_df.to_csv(outfile_name, index=False)\n",
        "print(f\"Saved {outfile_name} with {len(output_df)} rows.\")"
      ],
      "metadata": {
        "colab": {
          "base_uri": "https://localhost:8080/"
        },
        "id": "tp60sXBvYQyt",
        "outputId": "1509bc46-cb8b-4b39-931a-7e5d2886b201"
      },
      "execution_count": 12,
      "outputs": [
        {
          "output_type": "stream",
          "name": "stdout",
          "text": [
            "Saved CHEMBL203_Ki.csv with 389 rows.\n"
          ]
        }
      ]
    },
    {
      "cell_type": "markdown",
      "source": [
        "Let's take a quick look at the csv file."
      ],
      "metadata": {
        "id": "CCk62vKcwQQu"
      }
    },
    {
      "cell_type": "code",
      "source": [
        "!head {outfile_name}"
      ],
      "metadata": {
        "colab": {
          "base_uri": "https://localhost:8080/"
        },
        "id": "nQ7LMbLl0pDB",
        "outputId": "c32f0802-cea6-4dc2-c55a-c664ee91a927"
      },
      "execution_count": 13,
      "outputs": [
        {
          "output_type": "stream",
          "name": "stdout",
          "text": [
            "canonical_smiles,molregno,pchembl_value\n",
            "C#CCCn1cc(Nc2nc(OC[C@H]3CN(C(=O)C=C)C[C@@H]3OC)c3c(Cl)c[nH]c3n2)cn1,2076850,8.0\n",
            "C#CCOc1cc2ncnc(Nc3ccc(F)c(Cl)c3)c2cc1NC(=O)C=C,2076849,8.7\n",
            "C#Cc1cccc(Nc2ncnc3cc(OCCOC)c(OCCOC)cc23)c1,14785,8.547692307692309\n",
            "C=CC(=O)N1CC[C@@H](COc2nc(Nc3cnn(C)c3)nc3[nH]cc(Cl)c23)C1,2076841,8.1\n",
            "C=CC(=O)N1CC[C@@H](COc2nc(Nc3cnn(C)c3)nc3[nH]ccc23)C1,2076839,6.23\n",
            "C=CC(=O)N1CC[C@@H](Nc2nc(Nc3ccc(N4CCN(C)CC4)cc3)c3ncn(C(C)C)c3n2)C1,2284463,7.5\n",
            "C=CC(=O)N1CC[C@@H](Nc2nc(Nc3cnn(C)c3)c3ncn(C(C)C)c3n2)C1,2287519,6.98\n",
            "C=CC(=O)N1CC[C@@H](Nc2nc(Nc3cnn(C)c3)nc3[nH]cc(Cl)c23)C1,2284632,8.4\n",
            "C=CC(=O)N1CC[C@H](Nc2nc(Nc3ccc(N4CCN(C)CC4)cc3)c3ncn(C(C)C)c3n2)C1,2291892,6.79\n"
          ]
        }
      ]
    },
    {
      "cell_type": "markdown",
      "source": [
        "If you're on Google Colab, you can execute the cell below to download the results to your Downloads directory. If you're running the notebook locally the output file will be in the same directory as this notebook."
      ],
      "metadata": {
        "id": "lh1mnDNVvrH-"
      }
    },
    {
      "cell_type": "code",
      "source": [
        "if IN_COLAB:\n",
        "  files.download(outfile_name)"
      ],
      "metadata": {
        "colab": {
          "base_uri": "https://localhost:8080/",
          "height": 17
        },
        "id": "hOQ22LoubEnA",
        "outputId": "2066ba68-3e6c-427a-e223-4a53ea8cfc3c"
      },
      "execution_count": 14,
      "outputs": [
        {
          "output_type": "display_data",
          "data": {
            "text/plain": [
              "<IPython.core.display.Javascript object>"
            ],
            "application/javascript": [
              "\n",
              "    async function download(id, filename, size) {\n",
              "      if (!google.colab.kernel.accessAllowed) {\n",
              "        return;\n",
              "      }\n",
              "      const div = document.createElement('div');\n",
              "      const label = document.createElement('label');\n",
              "      label.textContent = `Downloading \"${filename}\": `;\n",
              "      div.appendChild(label);\n",
              "      const progress = document.createElement('progress');\n",
              "      progress.max = size;\n",
              "      div.appendChild(progress);\n",
              "      document.body.appendChild(div);\n",
              "\n",
              "      const buffers = [];\n",
              "      let downloaded = 0;\n",
              "\n",
              "      const channel = await google.colab.kernel.comms.open(id);\n",
              "      // Send a message to notify the kernel that we're ready.\n",
              "      channel.send({})\n",
              "\n",
              "      for await (const message of channel.messages) {\n",
              "        // Send a message to notify the kernel that we're ready.\n",
              "        channel.send({})\n",
              "        if (message.buffers) {\n",
              "          for (const buffer of message.buffers) {\n",
              "            buffers.push(buffer);\n",
              "            downloaded += buffer.byteLength;\n",
              "            progress.value = downloaded;\n",
              "          }\n",
              "        }\n",
              "      }\n",
              "      const blob = new Blob(buffers, {type: 'application/binary'});\n",
              "      const a = document.createElement('a');\n",
              "      a.href = window.URL.createObjectURL(blob);\n",
              "      a.download = filename;\n",
              "      div.appendChild(a);\n",
              "      a.click();\n",
              "      div.remove();\n",
              "    }\n",
              "  "
            ]
          },
          "metadata": {}
        },
        {
          "output_type": "display_data",
          "data": {
            "text/plain": [
              "<IPython.core.display.Javascript object>"
            ],
            "application/javascript": [
              "download(\"download_e86afc75-64c8-4012-89cd-eab78c8fdc25\", \"CHEMBL203_Ki.csv\", 25713)"
            ]
          },
          "metadata": {}
        }
      ]
    },
    {
      "cell_type": "code",
      "source": [],
      "metadata": {
        "id": "iD2Yi71Culcd"
      },
      "execution_count": null,
      "outputs": []
    }
  ]
}